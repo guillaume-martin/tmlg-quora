{
 "cells": [
  {
   "cell_type": "code",
   "execution_count": 1,
   "metadata": {
    "collapsed": true
   },
   "outputs": [],
   "source": [
    "# Import packages\n",
    "import pandas as pd\n",
    "import seaborn as sns\n",
    "import matplotlib.pyplot as plt\n",
    "\n",
    "%matplotlib inline"
   ]
  },
  {
   "cell_type": "code",
   "execution_count": 2,
   "metadata": {
    "collapsed": true
   },
   "outputs": [],
   "source": [
    "# Set directories\n",
    "DATA_DIR = '../data/'\n",
    "TRAIN_FILE = 'train.csv'\n",
    "TEST_FILE = 'test.csv'"
   ]
  },
  {
   "cell_type": "code",
   "execution_count": 3,
   "metadata": {
    "collapsed": true
   },
   "outputs": [],
   "source": [
    "# Load the data\n",
    "train = pd.read_csv(DATA_DIR + TRAIN_FILE)\n",
    "test = pd.read_csv(DATA_DIR + TEST_FILE)"
   ]
  },
  {
   "cell_type": "code",
   "execution_count": 4,
   "metadata": {
    "collapsed": false
   },
   "outputs": [
    {
     "name": "stdout",
     "output_type": "stream",
     "text": [
      "Train shape:  (404290, 6)\n",
      "Test shape: (2345796, 3)\n"
     ]
    }
   ],
   "source": [
    "# Get the size of the datasets\n",
    "print('Train shape: ', train.shape)\n",
    "print('Test shape:', test.shape)"
   ]
  },
  {
   "cell_type": "code",
   "execution_count": 5,
   "metadata": {
    "collapsed": false
   },
   "outputs": [
    {
     "name": "stdout",
     "output_type": "stream",
     "text": [
      "Train columns:  Index(['id', 'qid1', 'qid2', 'question1', 'question2', 'is_duplicate'], dtype='object')\n",
      "Test columns:  Index(['test_id', 'question1', 'question2'], dtype='object')\n"
     ]
    }
   ],
   "source": [
    "# What are the columns of each dataset?\n",
    "print('Train columns: ', train.columns)\n",
    "print('Test columns: ', test.columns)"
   ]
  },
  {
   "cell_type": "code",
   "execution_count": 6,
   "metadata": {
    "collapsed": false
   },
   "outputs": [
    {
     "name": "stdout",
     "output_type": "stream",
     "text": [
      "train data types: \n",
      " id               int64\n",
      "qid1             int64\n",
      "qid2             int64\n",
      "question1       object\n",
      "question2       object\n",
      "is_duplicate     int64\n",
      "dtype: object \n",
      "\n",
      "test data types: \n",
      " test_id       int64\n",
      "question1    object\n",
      "question2    object\n",
      "dtype: object \n",
      "\n"
     ]
    }
   ],
   "source": [
    "# what kind of data do we have?\n",
    "print('train data types: \\n', train.dtypes, '\\n')\n",
    "print('test data types: \\n', test.dtypes, '\\n')"
   ]
  },
  {
   "cell_type": "code",
   "execution_count": 7,
   "metadata": {
    "collapsed": false
   },
   "outputs": [
    {
     "data": {
      "image/png": "[encoded data removed]",
      "text/plain": [
       "<matplotlib.figure.Figure at 0x7f3edac5bc50>"
      ]
     },
     "metadata": {},
     "output_type": "display_data"
    }
   ],
   "source": [
    "# What is the distribution of classes?\n",
    "is_duplicate = train['is_duplicate'].value_counts()\n",
    "\n",
    "plt.figure(figsize=(8,4))\n",
    "\n",
    "sns.barplot(is_duplicate.index, is_duplicate.values, alpha=0.8)\n",
    "\n",
    "plt.ylabel('Number of occurences', fontsize=12)\n",
    "plt.xlabel('Is duplicate', fontsize=12)\n",
    "\n",
    "plt.show()"
   ]
  },
  {
   "cell_type": "code",
   "execution_count": 8,
   "metadata": {
    "collapsed": false
   },
   "outputs": [
    {
     "data": {
      "text/plain": [
       "0    0.630802\n",
       "1    0.369198\n",
       "Name: is_duplicate, dtype: float64"
      ]
     },
     "execution_count": 8,
     "metadata": {},
     "output_type": "execute_result"
    }
   ],
   "source": [
    "is_duplicate / is_duplicate.sum()"
   ]
  },
  {
   "cell_type": "code",
   "execution_count": 9,
   "metadata": {
    "collapsed": false
   },
   "outputs": [
    {
     "data": {
      "text/html": [
       "<div>\n",
       "<table border=\"1\" class=\"dataframe\">\n",
       "  <thead>\n",
       "    <tr style=\"text-align: right;\">\n",
       "      <th></th>\n",
       "      <th>id</th>\n",
       "      <th>qid1</th>\n",
       "      <th>qid2</th>\n",
       "      <th>question1</th>\n",
       "      <th>question2</th>\n",
       "      <th>is_duplicate</th>\n",
       "    </tr>\n",
       "  </thead>\n",
       "  <tbody>\n",
       "    <tr>\n",
       "      <th>0</th>\n",
       "      <td>0</td>\n",
       "      <td>1</td>\n",
       "      <td>2</td>\n",
       "      <td>What is the step by step guide to invest in sh...</td>\n",
       "      <td>What is the step by step guide to invest in sh...</td>\n",
       "      <td>0</td>\n",
       "    </tr>\n",
       "    <tr>\n",
       "      <th>1</th>\n",
       "      <td>1</td>\n",
       "      <td>3</td>\n",
       "      <td>4</td>\n",
       "      <td>What is the story of Kohinoor (Koh-i-Noor) Dia...</td>\n",
       "      <td>What would happen if the Indian government sto...</td>\n",
       "      <td>0</td>\n",
       "    </tr>\n",
       "    <tr>\n",
       "      <th>2</th>\n",
       "      <td>2</td>\n",
       "      <td>5</td>\n",
       "      <td>6</td>\n",
       "      <td>How can I increase the speed of my internet co...</td>\n",
       "      <td>How can Internet speed be increased by hacking...</td>\n",
       "      <td>0</td>\n",
       "    </tr>\n",
       "    <tr>\n",
       "      <th>3</th>\n",
       "      <td>3</td>\n",
       "      <td>7</td>\n",
       "      <td>8</td>\n",
       "      <td>Why am I mentally very lonely? How can I solve...</td>\n",
       "      <td>Find the remainder when [math]23^{24}[/math] i...</td>\n",
       "      <td>0</td>\n",
       "    </tr>\n",
       "    <tr>\n",
       "      <th>4</th>\n",
       "      <td>4</td>\n",
       "      <td>9</td>\n",
       "      <td>10</td>\n",
       "      <td>Which one dissolve in water quikly sugar, salt...</td>\n",
       "      <td>Which fish would survive in salt water?</td>\n",
       "      <td>0</td>\n",
       "    </tr>\n",
       "  </tbody>\n",
       "</table>\n",
       "</div>"
      ],
      "text/plain": [
       "   id  qid1  qid2                                          question1  \\\n",
       "0   0     1     2  What is the step by step guide to invest in sh...   \n",
       "1   1     3     4  What is the story of Kohinoor (Koh-i-Noor) Dia...   \n",
       "2   2     5     6  How can I increase the speed of my internet co...   \n",
       "3   3     7     8  Why am I mentally very lonely? How can I solve...   \n",
       "4   4     9    10  Which one dissolve in water quikly sugar, salt...   \n",
       "\n",
       "                                           question2  is_duplicate  \n",
       "0  What is the step by step guide to invest in sh...             0  \n",
       "1  What would happen if the Indian government sto...             0  \n",
       "2  How can Internet speed be increased by hacking...             0  \n",
       "3  Find the remainder when [math]23^{24}[/math] i...             0  \n",
       "4            Which fish would survive in salt water?             0  "
      ]
     },
     "execution_count": 9,
     "metadata": {},
     "output_type": "execute_result"
    }
   ],
   "source": [
    "# View sample of data\n",
    "train.head()"
   ]
  },
  {
   "cell_type": "code",
   "execution_count": 10,
   "metadata": {
    "collapsed": true
   },
   "outputs": [],
   "source": [
    "sample = train['question1']"
   ]
  },
  {
   "cell_type": "code",
   "execution_count": 11,
   "metadata": {
    "collapsed": false
   },
   "outputs": [
    {
     "data": {
      "text/plain": [
       "0         What is the step by step guide to invest in sh...\n",
       "1         What is the story of Kohinoor (Koh-i-Noor) Dia...\n",
       "2         How can I increase the speed of my internet co...\n",
       "3         Why am I mentally very lonely? How can I solve...\n",
       "4         Which one dissolve in water quikly sugar, salt...\n",
       "5         Astrology: I am a Capricorn Sun Cap moon and c...\n",
       "6                                       Should I buy tiago?\n",
       "7                            How can I be a good geologist?\n",
       "8                           When do you use シ instead of し?\n",
       "9         Motorola (company): Can I hack my Charter Moto...\n",
       "10        Method to find separation of slits using fresn...\n",
       "11              How do I read and find my YouTube comments?\n",
       "12                     What can make Physics easy to learn?\n",
       "13              What was your first sexual experience like?\n",
       "14        What are the laws to change your status from a...\n",
       "15        What would a Trump presidency mean for current...\n",
       "16                             What does manipulation mean?\n",
       "17        Why do girls want to be friends with the guy t...\n",
       "18        Why are so many Quora users posting questions ...\n",
       "19        Which is the best digital marketing institutio...\n",
       "20                               Why do rockets look white?\n",
       "21                    What's causing someone to be jealous?\n",
       "22          What are the questions should not ask on Quora?\n",
       "23                                 How much is 30 kV in HP?\n",
       "24        What does it mean that every time I look at th...\n",
       "25        What are some tips on making it through the jo...\n",
       "26                                 What is web application?\n",
       "27        Does society place too much importance on sports?\n",
       "28                   What is best way to make money online?\n",
       "29                   How should I prepare for CA final law?\n",
       "                                ...                        \n",
       "404260                     Which phone is best under 12000?\n",
       "404261    Who is the overall most popular Game of Throne...\n",
       "404262            How do you troubleshoot a Toshiba laptop?\n",
       "404263    How does the burning of fossil fuels contribut...\n",
       "404264    Is it safe to store an external battery power ...\n",
       "404265                    How can I gain weight on my body?\n",
       "404266    What is the green dot next to the phone icon o...\n",
       "404267    What are the causes of the fall of the Roman E...\n",
       "404268    Why don't we still do great music like in the ...\n",
       "404269    How do you diagnose antisocial personality dis...\n",
       "404270          What is the difference between who and how?\n",
       "404271    Does Stalin have any grandchildren that are st...\n",
       "404272    What are the best new car products or inventio...\n",
       "404273      What happens if you put milk in a coffee maker?\n",
       "404274    Will the next generation of parenting change o...\n",
       "404275    In accounting, why do we debit expenses and cr...\n",
       "404276                           What is copilotsearch.com?\n",
       "404277                              What does analytics do?\n",
       "404278            How did you prepare for AIIMS/NEET/AIPMT?\n",
       "404279    What is the minimum time required to build a f...\n",
       "404280    What are some outfit ideas to wear to a frat p...\n",
       "404281    Why is Manaphy childish in Pokémon Ranger and ...\n",
       "404282          How does a long distance relationship work?\n",
       "404283    What do you think of the removal of the MagSaf...\n",
       "404284           What does Jainism say about homosexuality?\n",
       "404285    How many keywords are there in the Racket prog...\n",
       "404286            Do you believe there is life after death?\n",
       "404287                                    What is one coin?\n",
       "404288    What is the approx annual cost of living while...\n",
       "404289                What is like to have sex with cousin?\n",
       "Name: question1, dtype: object"
      ]
     },
     "execution_count": 11,
     "metadata": {},
     "output_type": "execute_result"
    }
   ],
   "source": [
    "sample"
   ]
  },
  {
   "cell_type": "code",
   "execution_count": null,
   "metadata": {
    "collapsed": true
   },
   "outputs": [],
   "source": []
  }
 ],
 "metadata": {
  "kernelspec": {
   "display_name": "Python 3",
   "language": "python",
   "name": "python3"
  },
  "language_info": {
   "codemirror_mode": {
    "name": "ipython",
    "version": 3
   },
   "file_extension": ".py",
   "mimetype": "text/x-python",
   "name": "python",
   "nbconvert_exporter": "python",
   "pygments_lexer": "ipython3",
   "version": "3.6.0"
  }
 },
 "nbformat": 4,
 "nbformat_minor": 2
}
